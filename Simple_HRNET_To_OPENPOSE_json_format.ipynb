{
  "nbformat": 4,
  "nbformat_minor": 0,
  "metadata": {
    "colab": {
      "name": "Simple HRNET To OPENPOSE json format.ipynb",
      "provenance": []
    },
    "kernelspec": {
      "name": "python3",
      "display_name": "Python 3"
    }
  },
  "cells": [
    {
      "cell_type": "markdown",
      "metadata": {
        "id": "rYchHUo99mil"
      },
      "source": [
        "# Simple HRNET To OPENPOSE json format"
      ]
    },
    {
      "cell_type": "code",
      "metadata": {
        "id": "V95F2KmXCbl0",
        "colab": {
          "base_uri": "https://localhost:8080/"
        },
        "outputId": "d191b1c5-a9d0-4bc4-8472-4a76335bce01"
      },
      "source": [
        "#Working Directory\n",
        "%cd '/content/drive/My Drive/Eroom-models-working/simple-HRNet' #location of your simple HRNET folder\n",
        "import cv2\n",
        "from SimpleHRNet import SimpleHRNet\n",
        "import pandas as pd\n",
        "import numpy as np\n",
        "\n",
        "\n",
        "#Run Simple-HRNET\n",
        "model = SimpleHRNet(48, 17, \"./weights/pose_hrnet_w48_384x288.pth\")\n",
        "img=cv2.imread('/content/drive/My Drive/Eroom-models-working/Down-to-the-Last-Detail-Virtual-Try-on-with-Detail-Carving/dataset/images/1XC23D02N-Q12@12=person_half_front.jpg')\n",
        "#img1=cv2.resize(img, (192,256), cv2.INTER_CUBIC)\n",
        "joints = model.predict(img)\n",
        "\n",
        "\n",
        "#### Input: HRNET joints, OUTPUT: Openpose Json\n",
        "raw_joints = pd.DataFrame(joints[0])#input\n",
        "columns_titles = [1,0]\n",
        "raw_joints2=raw_joints.reindex(columns=columns_titles)\n",
        "raw_joints2 = pd.concat([raw_joints2,raw_joints[2]], axis=1)\n",
        "raw_joints2\n",
        "\n",
        "openpose_json = pd.DataFrame(raw_joints2.iloc[0]).T\n",
        "x_av = (raw_joints2.loc[5,1] +  raw_joints2.loc[6,1])/2\n",
        "y_av = (raw_joints2.loc[5,0] +  raw_joints2.loc[6,0])/2\n",
        "z_av = (raw_joints2.loc[5,2] +  raw_joints2.loc[6,2])/2\n",
        "\n",
        "openpose_json=openpose_json.append({1:x_av,0:y_av,2:z_av},ignore_index=True)\n",
        "openpose_json=openpose_json.append({1:raw_joints2.loc[6,1],0:raw_joints2.loc[6,0],2:raw_joints2.loc[6,2]},ignore_index=True)\n",
        "openpose_json=openpose_json.append({1:raw_joints2.loc[8,1],0:raw_joints2.loc[8,0],2:raw_joints2.loc[8,2]},ignore_index=True)\n",
        "openpose_json=openpose_json.append({1:raw_joints2.loc[10,1],0:raw_joints2.loc[10,0],2:raw_joints2.loc[10,2]},ignore_index=True)\n",
        "openpose_json=openpose_json.append({1:raw_joints2.loc[5,1],0:raw_joints2.loc[5,0],2:raw_joints2.loc[5,2]},ignore_index=True)\n",
        "openpose_json=openpose_json.append({1:raw_joints2.loc[7,1],0:raw_joints2.loc[7,0],2:raw_joints2.loc[7,2]},ignore_index=True)\n",
        "openpose_json=openpose_json.append({1:raw_joints2.loc[9,1],0:raw_joints2.loc[9,0],2:raw_joints2.loc[9,2]},ignore_index=True)\n",
        "openpose_json=openpose_json.append({1:raw_joints2.loc[12,1],0:raw_joints2.loc[12,0],2:raw_joints2.loc[12,2]},ignore_index=True)\n",
        "openpose_json=openpose_json.append({1:raw_joints2.loc[14,1],0:raw_joints2.loc[14,0],2:raw_joints2.loc[14,2]},ignore_index=True)\n",
        "openpose_json=openpose_json.append({1:raw_joints2.loc[16,1],0:raw_joints2.loc[16,0],2:raw_joints2.loc[16,2]},ignore_index=True)\n",
        "openpose_json=openpose_json.append({1:raw_joints2.loc[11,1],0:raw_joints2.loc[11,0],2:raw_joints2.loc[11,2]},ignore_index=True)\n",
        "openpose_json=openpose_json.append({1:raw_joints2.loc[13,1],0:raw_joints2.loc[13,0],2:raw_joints2.loc[13,2]},ignore_index=True)\n",
        "openpose_json=openpose_json.append({1:raw_joints2.loc[15,1],0:raw_joints2.loc[15,0],2:raw_joints2.loc[15,2]},ignore_index=True)\n",
        "openpose_json=openpose_json.append({1:raw_joints2.loc[2,1],0:raw_joints2.loc[2,0],2:raw_joints2.loc[2,2]},ignore_index=True)\n",
        "openpose_json=openpose_json.append({1:raw_joints2.loc[1,1],0:raw_joints2.loc[1,0],2:raw_joints2.loc[1,2]},ignore_index=True)\n",
        "openpose_json=openpose_json.append({1:raw_joints2.loc[4,1],0:raw_joints2.loc[4,0],2:raw_joints2.loc[4,2]},ignore_index=True)\n",
        "openpose_json=openpose_json.append({1:raw_joints2.loc[3,1],0:raw_joints2.loc[3,0],2:raw_joints2.loc[3,2]},ignore_index=True)\n",
        "\n",
        "input_json = openpose_json.to_numpy().flatten().tolist() #output, openpose coco keypoints\n",
        "\n",
        "import json \n",
        "###########Destination Folder\n",
        "%cd '/content/drive/My Drive/Eroom-models-working/Down-to-the-Last-Detail-Virtual-Try-on-with-Detail-Carving/dataset/pose_coco'\n",
        "# Data to be written \n",
        "dictionary ={ \n",
        "\"version\":1.3,\"people\":[{\"person_id\":[-1],\"pose_keypoints_2d\":input_json,\"face_keypoints_2d\":[],\"hand_left_keypoints_2d\":[],\"hand_right_keypoints_2d\":[],\"pose_keypoints_3d\":[],\"face_keypoints_3d\":[],\"hand_left_keypoints_3d\":[],\"hand_right_keypoints_3d\":[]}]\n",
        "} \n",
        "# Serializing json  \n",
        "json_object = json.dumps(dictionary) \n",
        "  \n",
        "# Writing to sample.json \n",
        "with open(\"1XC23D02N-Q12@12=person_half_front_keypoints.json\", \"w\") as outfile: #json output file\n",
        "    outfile.write(json_object) \n"
      ],
      "execution_count": null,
      "outputs": [
        {
          "output_type": "stream",
          "text": [
            "/content/drive/.shortcut-targets-by-id/298/simple-HRNet\n",
            "device: 'cpu'\n",
            "/content/drive/My Drive/Eroom-models-working/Down-to-the-Last-Detail-Virtual-Try-on-with-Detail-Carving/dataset/pose_coco\n"
          ],
          "name": "stdout"
        }
      ]
    }
  ]
}